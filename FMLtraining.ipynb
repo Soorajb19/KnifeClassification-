{
  "nbformat": 4,
  "nbformat_minor": 0,
  "metadata": {
    "colab": {
      "provenance": [],
      "collapsed_sections": [
        "JTE5RbdZNY7Z"
      ],
      "include_colab_link": true
    },
    "kernelspec": {
      "name": "python3",
      "display_name": "Python 3"
    },
    "language_info": {
      "name": "python"
    },
    "accelerator": "GPU",
    "gpuClass": "standard"
  },
  "cells": [
    {
      "cell_type": "markdown",
      "metadata": {
        "id": "view-in-github",
        "colab_type": "text"
      },
      "source": [
        "<a href=\"https://colab.research.google.com/github/Soorajb19/KnifeClassification-/blob/main/FMLtraining.ipynb\" target=\"_parent\"><img src=\"https://colab.research.google.com/assets/colab-badge.svg\" alt=\"Open In Colab\"/></a>"
      ]
    },
    {
      "cell_type": "markdown",
      "source": [
        "# Step 1: GPU Selection\n"
      ],
      "metadata": {
        "id": "9X3IbRehFNjA"
      }
    },
    {
      "cell_type": "code",
      "execution_count": null,
      "metadata": {
        "colab": {
          "base_uri": "https://localhost:8080/"
        },
        "id": "xHEpV2i0zQrW",
        "outputId": "97e77a69-dcd7-4d0d-f22c-8d628fbc5146"
      },
      "outputs": [
        {
          "output_type": "stream",
          "name": "stdout",
          "text": [
            "Fri Feb 10 16:26:55 2023       \n",
            "+-----------------------------------------------------------------------------+\n",
            "| NVIDIA-SMI 510.47.03    Driver Version: 510.47.03    CUDA Version: 11.6     |\n",
            "|-------------------------------+----------------------+----------------------+\n",
            "| GPU  Name        Persistence-M| Bus-Id        Disp.A | Volatile Uncorr. ECC |\n",
            "| Fan  Temp  Perf  Pwr:Usage/Cap|         Memory-Usage | GPU-Util  Compute M. |\n",
            "|                               |                      |               MIG M. |\n",
            "|===============================+======================+======================|\n",
            "|   0  Tesla T4            Off  | 00000000:00:04.0 Off |                    0 |\n",
            "| N/A   36C    P8     9W /  70W |      3MiB / 15360MiB |      0%      Default |\n",
            "|                               |                      |                  N/A |\n",
            "+-------------------------------+----------------------+----------------------+\n",
            "                                                                               \n",
            "+-----------------------------------------------------------------------------+\n",
            "| Processes:                                                                  |\n",
            "|  GPU   GI   CI        PID   Type   Process name                  GPU Memory |\n",
            "|        ID   ID                                                   Usage      |\n",
            "|=============================================================================|\n",
            "|  No running processes found                                                 |\n",
            "+-----------------------------------------------------------------------------+\n"
          ]
        }
      ],
      "source": [
        "!nvidia-sim"
      ]
    },
    {
      "cell_type": "code",
      "source": [
        "%cd /content/drive/MyDrive/\n",
        "!git clone https://github.com/Surrey-EEEM071-CVDL/CourseWork.git"
      ],
      "metadata": {
        "colab": {
          "base_uri": "https://localhost:8080/"
        },
        "id": "4H0KIZFSGC4Z",
        "outputId": "cd4c89ac-3705-4886-b6c7-17cfa89a6a5b"
      },
      "execution_count": null,
      "outputs": [
        {
          "output_type": "stream",
          "name": "stdout",
          "text": [
            "/content/drive/MyDrive\n",
            "Cloning into 'CourseWork'...\n",
            "remote: Enumerating objects: 60, done.\u001b[K\n",
            "remote: Counting objects: 100% (60/60), done.\u001b[K\n",
            "remote: Compressing objects: 100% (43/43), done.\u001b[K\n",
            "remote: Total 60 (delta 11), reused 59 (delta 10), pack-reused 0\u001b[K\n",
            "Unpacking objects: 100% (60/60), 31.94 KiB | 60.00 KiB/s, done.\n"
          ]
        }
      ]
    },
    {
      "cell_type": "markdown",
      "source": [
        "# Step 2: Data Preparation\n",
        "\n"
      ],
      "metadata": {
        "id": "SYUXrD24IV8x"
      }
    },
    {
      "cell_type": "code",
      "source": [
        "%cd /content\n",
        "!pip install -U --no-cache-dir gdown --pre\n",
        "!gdown --no-cookies 145EnXrdOLT6aIrOdLMHBOpWP3eTLP61w\n",
        "!unzip -P sUrreY_eeEm071_VeRi VeRi-EEEM071.zip"
      ],
      "metadata": {
        "id": "_X3Y8Adk1xjd"
      },
      "execution_count": null,
      "outputs": []
    },
    {
      "cell_type": "markdown",
      "source": [
        "# Step 3: Training"
      ],
      "metadata": {
        "id": "u1z0Kb-LMfh-"
      }
    },
    {
      "cell_type": "code",
      "source": [
        "%cd /content/drive/MyDrive/CourseWork/"
      ],
      "metadata": {
        "id": "xL87Cl0W6Wll",
        "colab": {
          "base_uri": "https://localhost:8080/"
        },
        "outputId": "d25645cf-fe8b-48dd-f687-19bc75b56bec"
      },
      "execution_count": null,
      "outputs": [
        {
          "output_type": "stream",
          "name": "stdout",
          "text": [
            "/content/drive/MyDrive/CourseWork\n"
          ]
        }
      ]
    },
    {
      "cell_type": "code",
      "source": [
        "!python main.py \\\n",
        "-s veri \\\n",
        "-t veri \\\n",
        "-a resnet50 \\\n",
        "--root /content \\\n",
        "--height 224 \\\n",
        "--width 224 \\\n",
        "--optim amsgrad \\\n",
        "--lr 0.0003 \\\n",
        "--max-epoch 60 \\\n",
        "--stepsize 20 40 \\\n",
        "--train-batch-size 64 \\\n",
        "--test-batch-size 100 \\\n",
        "--save-dir logs/resnet50-veri"
      ],
      "metadata": {
        "colab": {
          "base_uri": "https://localhost:8080/"
        },
        "id": "w2BqyZO3Mqjz",
        "outputId": "3466a09d-46a4-45e8-853a-f4e8965ccce1"
      },
      "execution_count": null,
      "outputs": [
        {
          "output_type": "stream",
          "name": "stdout",
          "text": [
            "==========\n",
            "Args:Namespace(adam_beta1=0.9, adam_beta2=0.999, arch='resnet50', color_aug=False, color_jitter=False, eval_freq=-1, evaluate=False, gamma=0.1, gpu_devices='0', height=224, label_smooth=False, lambda_htri=1, lambda_xent=1, load_weights='', lr=0.0003, lr_scheduler='multi_step', margin=0.3, max_epoch=60, momentum=0.9, no_pretrained=False, num_instances=4, optim='amsgrad', print_freq=10, query_remove=True, random_erase=False, resume='', rmsprop_alpha=0.99, root='/content', save_dir='logs/resnet50-veri', seed=1, sgd_dampening=0, sgd_nesterov=False, source_names=['veri'], split_id=0, start_epoch=0, start_eval=0, stepsize=[20, 40], target_names=['veri'], test_batch_size=100, test_size=800, train_batch_size=64, train_sampler='RandomSampler', use_avai_gpus=False, use_cpu=False, visualize_ranks=False, weight_decay=0.0005, width=224, workers=4)\n",
            "==========\n",
            "Currently using GPU 0\n",
            "Initializing image data manager\n",
            "=> Initializing TRAIN (source) datasets\n",
            "=> VeRi loaded\n",
            "Image Dataset statistics:\n",
            "  ----------------------------------------\n",
            "  subset   | # ids | # images | # cameras\n",
            "  ----------------------------------------\n",
            "  train    |   576 |    37778 |        20\n",
            "  query    |   200 |     1678 |        19\n",
            "  gallery  |   200 |    11579 |        19\n",
            "  ----------------------------------------\n",
            "/usr/local/lib/python3.8/dist-packages/torch/utils/data/dataloader.py:554: UserWarning: This DataLoader will create 4 worker processes in total. Our suggested max number of worker in current system is 2, which is smaller than what this DataLoader is going to create. Please be aware that excessive worker creation might get DataLoader running slow or even freeze, lower the worker number to avoid potential slowness/freeze if necessary.\n",
            "  warnings.warn(_create_warning_msg(\n",
            "=> Initializing TEST (target) datasets\n",
            "=> VeRi loaded\n",
            "Image Dataset statistics:\n",
            "  ----------------------------------------\n",
            "  subset   | # ids | # images | # cameras\n",
            "  ----------------------------------------\n",
            "  train    |   576 |    37778 |        20\n",
            "  query    |   200 |     1678 |        19\n",
            "  gallery  |   200 |    11579 |        19\n",
            "  ----------------------------------------\n",
            "\n",
            "\n",
            "  **************** Summary ****************\n",
            "  train names      : ['veri']\n",
            "  # train datasets : 1\n",
            "  # train ids      : 576\n",
            "  # train images   : 37778\n",
            "  # train cameras  : 20\n",
            "  test names       : ['veri']\n",
            "  *****************************************\n",
            "\n",
            "\n",
            "Initializing model: resnet50\n",
            "Initialized model with pretrained weights from https://download.pytorch.org/models/resnet50-19c8e357.pth\n",
            "Model size: 23.508 M\n",
            "=> Start training\n",
            "Epoch: [1][10/590]\tTime 0.682 (1.245)\tData 0.0002 (0.1332)\tXent 6.5632 (6.4460)\tHtri 0.4355 (0.4144)\tAcc 0.00 (0.78)\t\n",
            "Epoch: [1][20/590]\tTime 0.616 (0.933)\tData 0.0003 (0.0667)\tXent 6.6241 (6.5285)\tHtri 0.0000 (0.3541)\tAcc 0.00 (1.09)\t\n",
            "Epoch: [1][30/590]\tTime 0.749 (0.845)\tData 0.0064 (0.0450)\tXent 6.1737 (6.4915)\tHtri 0.4752 (0.3886)\tAcc 1.56 (1.35)\t\n",
            "Epoch: [1][40/590]\tTime 0.620 (0.793)\tData 0.0003 (0.0340)\tXent 6.1214 (6.3969)\tHtri 0.3241 (0.3736)\tAcc 0.00 (1.91)\t\n",
            "Traceback (most recent call last):\n",
            "  File \"main.py\", line 320, in <module>\n",
            "    main()\n",
            "  File \"main.py\", line 124, in main\n",
            "    train(\n",
            "  File \"main.py\", line 202, in train\n",
            "    optimizer.step()\n",
            "  File \"/usr/local/lib/python3.8/dist-packages/torch/optim/lr_scheduler.py\", line 68, in wrapper\n",
            "    return wrapped(*args, **kwargs)\n",
            "  File \"/usr/local/lib/python3.8/dist-packages/torch/optim/optimizer.py\", line 140, in wrapper\n",
            "    out = func(*args, **kwargs)\n",
            "  File \"/usr/local/lib/python3.8/dist-packages/torch/optim/optimizer.py\", line 23, in _use_grad\n",
            "    ret = func(self, *args, **kwargs)\n",
            "  File \"/usr/local/lib/python3.8/dist-packages/torch/optim/adam.py\", line 234, in step\n",
            "    adam(params_with_grad,\n",
            "  File \"/usr/local/lib/python3.8/dist-packages/torch/optim/adam.py\", line 300, in adam\n",
            "    func(params,\n",
            "  File \"/usr/local/lib/python3.8/dist-packages/torch/optim/adam.py\", line 363, in _single_tensor_adam\n",
            "    exp_avg.mul_(beta1).add_(grad, alpha=1 - beta1)\n",
            "KeyboardInterrupt\n",
            "^C\n"
          ]
        }
      ]
    },
    {
      "cell_type": "markdown",
      "source": [
        "# Step 4: Test Trained Model\n",
        "\n",
        "We are now evaluating off-the-shelf ImageNet-pretrained ResNet50"
      ],
      "metadata": {
        "id": "JTE5RbdZNY7Z"
      }
    },
    {
      "cell_type": "code",
      "source": [
        "!python main.py \\\n",
        "-s veri \\\n",
        "-t veri \\\n",
        "-a resnet50 \\\n",
        "--root /content \\\n",
        "--height 224 \\\n",
        "--width 224 \\\n",
        "--test-batch-size 100 \\\n",
        "--evaluate \\\n",
        "--save-dir logs/eval-veri"
      ],
      "metadata": {
        "colab": {
          "base_uri": "https://localhost:8080/"
        },
        "id": "fB6ErSgHM_2T",
        "outputId": "00aa6848-0346-4356-9855-3aa0064d71c1"
      },
      "execution_count": null,
      "outputs": [
        {
          "output_type": "stream",
          "name": "stdout",
          "text": [
            "==========\n",
            "Args:Namespace(adam_beta1=0.9, adam_beta2=0.999, arch='resnet50', color_aug=False, color_jitter=False, eval_freq=-1, evaluate=True, gamma=0.1, gpu_devices='0', height=224, label_smooth=False, lambda_htri=1, lambda_xent=1, load_weights='', lr=0.0003, lr_scheduler='multi_step', margin=0.3, max_epoch=60, momentum=0.9, no_pretrained=False, num_instances=4, optim='adam', print_freq=10, query_remove=True, random_erase=False, resume='', rmsprop_alpha=0.99, root='/content', save_dir='logs/eval-veri', seed=1, sgd_dampening=0, sgd_nesterov=False, source_names=['veri'], split_id=0, start_epoch=0, start_eval=0, stepsize=[20, 40], target_names=['veri'], test_batch_size=100, test_size=800, train_batch_size=32, train_sampler='RandomSampler', use_avai_gpus=False, use_cpu=False, visualize_ranks=False, weight_decay=0.0005, width=224, workers=4)\n",
            "==========\n",
            "Currently using GPU 0\n",
            "Initializing image data manager\n",
            "=> Initializing TRAIN (source) datasets\n",
            "=> VeRi loaded\n",
            "Image Dataset statistics:\n",
            "  ----------------------------------------\n",
            "  subset   | # ids | # images | # cameras\n",
            "  ----------------------------------------\n",
            "  train    |   576 |    37778 |        20\n",
            "  query    |   200 |     1678 |        19\n",
            "  gallery  |   200 |    11579 |        19\n",
            "  ----------------------------------------\n",
            "/usr/local/lib/python3.8/dist-packages/torch/utils/data/dataloader.py:554: UserWarning: This DataLoader will create 4 worker processes in total. Our suggested max number of worker in current system is 2, which is smaller than what this DataLoader is going to create. Please be aware that excessive worker creation might get DataLoader running slow or even freeze, lower the worker number to avoid potential slowness/freeze if necessary.\n",
            "  warnings.warn(_create_warning_msg(\n",
            "=> Initializing TEST (target) datasets\n",
            "=> VeRi loaded\n",
            "Image Dataset statistics:\n",
            "  ----------------------------------------\n",
            "  subset   | # ids | # images | # cameras\n",
            "  ----------------------------------------\n",
            "  train    |   576 |    37778 |        20\n",
            "  query    |   200 |     1678 |        19\n",
            "  gallery  |   200 |    11579 |        19\n",
            "  ----------------------------------------\n",
            "\n",
            "\n",
            "  **************** Summary ****************\n",
            "  train names      : ['veri']\n",
            "  # train datasets : 1\n",
            "  # train ids      : 576\n",
            "  # train images   : 37778\n",
            "  # train cameras  : 20\n",
            "  test names       : ['veri']\n",
            "  *****************************************\n",
            "\n",
            "\n",
            "Initializing model: resnet50\n",
            "Initialized model with pretrained weights from https://download.pytorch.org/models/resnet50-19c8e357.pth\n",
            "Model size: 23.508 M\n",
            "Evaluate only\n",
            "Evaluating veri ...\n",
            "Extracted features for query set, obtained 1678-by-2048 matrix\n",
            "Extracted features for gallery set, obtained 11579-by-2048 matrix\n",
            "=> BatchTime(s)/BatchSize(img): 0.103/100\n",
            "Computing CMC and mAP\n",
            "Results ----------\n",
            "mAP: 9.0%\n",
            "CMC curve\n",
            "Rank-1  : 33.0%\n",
            "Rank-5  : 49.8%\n",
            "Rank-10 : 57.3%\n",
            "Rank-20 : 67.5%\n",
            "------------------\n"
          ]
        }
      ]
    },
    {
      "cell_type": "code",
      "source": [],
      "metadata": {
        "id": "jA43L0cTNpiJ"
      },
      "execution_count": null,
      "outputs": []
    }
  ]
}